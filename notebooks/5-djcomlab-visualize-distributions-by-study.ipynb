{
 "cells": [
  {
   "cell_type": "code",
   "execution_count": 1,
   "metadata": {},
   "outputs": [],
   "source": [
    "from ipywidgets import interact, interactive, fixed, interact_manual\n",
    "import ipywidgets as widgets\n",
    "import pandas as pd\n",
    "import numpy as np"
   ]
  },
  {
   "cell_type": "code",
   "execution_count": 12,
   "metadata": {},
   "outputs": [],
   "source": [
    "df_by_cat = pd.read_csv(\"../data/processed/memory_footprint_by_category.csv\")"
   ]
  },
  {
   "cell_type": "code",
   "execution_count": 35,
   "metadata": {},
   "outputs": [
    {
     "data": {
      "application/vnd.jupyter.widget-view+json": {
       "model_id": "75aa37b68785471a8fad39d5394dbe22",
       "version_major": 2,
       "version_minor": 0
      },
      "text/plain": [
       "interactive(children=(SelectionSlider(description='study_id', index=226, options=('MTBLS102', 'MTBLS102', 'MTB…"
      ]
     },
     "metadata": {},
     "output_type": "display_data"
    }
   ],
   "source": [
    "def plot_scatter_size(study_id):\n",
    "    cmap = {'DataFrame': 'blue', 'ISA': 'red'}\n",
    "    df_by_cat[df_by_cat.study_id == study_id].plot.scatter(\n",
    "        x='disk_size', y='size',\n",
    "        c=[cmap.get(c) for c in df_by_cat[df_by_cat.study_id == study_id].category])\n",
    "study_ids = sorted(df_by_cat.study_id)\n",
    "_ = interact(plot_scatter_size, \n",
    "             study_id=widgets.SelectionSlider(\n",
    "             options=study_ids,\n",
    "             value=df_by_cat.study_id[0],\n",
    "             continuous_update=True))"
   ]
  },
  {
   "cell_type": "code",
   "execution_count": null,
   "metadata": {},
   "outputs": [],
   "source": []
  }
 ],
 "metadata": {
  "kernelspec": {
   "display_name": "Python 3",
   "language": "python",
   "name": "python3"
  },
  "language_info": {
   "codemirror_mode": {
    "name": "ipython",
    "version": 3
   },
   "file_extension": ".py",
   "mimetype": "text/x-python",
   "name": "python",
   "nbconvert_exporter": "python",
   "pygments_lexer": "ipython3",
   "version": "3.6.8"
  }
 },
 "nbformat": 4,
 "nbformat_minor": 2
}
